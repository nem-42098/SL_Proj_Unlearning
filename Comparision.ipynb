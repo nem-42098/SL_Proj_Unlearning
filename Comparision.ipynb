{
  "cells": [
    {
      "cell_type": "code",
      "execution_count": 1,
      "id": "initial_id",
      "metadata": {
        "is_executing": true,
        "id": "initial_id"
      },
      "outputs": [],
      "source": [
        "from tools.Unlearner import Unlearner\n",
        "import torch\n",
        "import torchvision\n",
        "import torch.nn as nn\n",
        "import torch.nn.functional as F\n",
        "import torchvision.transforms as transforms\n",
        "from torchvision import models\n",
        "import numpy as np\n",
        "from types import ClassMethodDescriptorType\n",
        "from torchvision.datasets.inaturalist import DATASET_MD5\n",
        "import time\n",
        "import pandas as pd\n",
        "import seaborn as sns"
      ]
    },
    {
      "cell_type": "code",
      "source": [
        "import comparison"
      ],
      "metadata": {
        "id": "7ud8Ft7d4Tyj"
      },
      "id": "7ud8Ft7d4Tyj",
      "execution_count": 2,
      "outputs": []
    },
    {
      "cell_type": "markdown",
      "id": "7f96218c26076e68",
      "metadata": {
        "id": "7f96218c26076e68"
      },
      "source": [
        "# COMPARING MODELS"
      ]
    },
    {
      "cell_type": "code",
      "source": [
        "## CIFAR10\n",
        "\n",
        "models = {\"CIFAR100\": ['cifar100_vgg16_bn','cifar100_vgg19_bn', 'cifar100_resnet44','cifar100_resnet56']}\n",
        "classes = [[1]]\n",
        "results = {}\n",
        "for data,model in models.items():\n",
        "  for i in model:\n",
        "    #print(i)\n",
        "    for j in classes:\n",
        "      results[data,i,len(j)] = comparison.metrics(data,i,j)\n"
      ],
      "metadata": {
        "colab": {
          "base_uri": "https://localhost:8080/"
        },
        "id": "x6JzfDdz3rXN",
        "outputId": "36b63c29-bd51-47ab-ed74-c8c89890a4dd"
      },
      "id": "x6JzfDdz3rXN",
      "execution_count": null,
      "outputs": [
        {
          "metadata": {
            "tags": null
          },
          "name": "stdout",
          "output_type": "stream",
          "text": [
            "Files already downloaded and verified\n",
            "Files already downloaded and verified\n"
          ]
        },
        {
          "metadata": {
            "tags": null
          },
          "name": "stderr",
          "output_type": "stream",
          "text": [
            "Using cache found in /root/.cache/torch/hub/chenyaofo_pytorch-cifar-models_master\n",
            " 50%|█████     | 10/20 [05:04<05:03, 30.37s/it]"
          ]
        }
      ]
    },
    {
      "cell_type": "code",
      "source": [
        "#,\"CIFAR100\": ['cifar100_vgg16_bn','cifar100_vgg19_bn', 'cifar100_resnet44','cifar100_resnet56']\n",
        "#, [1,2]"
      ],
      "metadata": {
        "id": "yleO5BJ8jgEe"
      },
      "id": "yleO5BJ8jgEe",
      "execution_count": null,
      "outputs": []
    },
    {
      "cell_type": "code",
      "source": [
        "\n",
        "models = {\"CIFAR10\": ['cifar10_vgg16_bn','cifar10_vgg19_bn', 'cifar10_resnet44','cifar10_resnet56'],\n",
        "                           \"CIFAR100\": ['cifar100_vgg16_bn','cifar100_vgg19_bn', 'cifar100_resnet44','cifar100_resnet56']}\n",
        "classes = [[1], [1,2]]\n",
        "\n",
        "try:\n",
        "    with open(\"/content/drive/results.pkl\", 'rb') as pickle_file:\n",
        "        results = pickle.load(pickle_file)\n",
        "except FileNotFoundError:\n",
        "    results = {}\n",
        "\n",
        "for data, model_list in models.items():\n",
        "    for model_name in model_list:\n",
        "        for j in classes:\n",
        "            result_key = (data, model_name, len(j))\n",
        "            results[result_key] = comparison.metrics(data, model_name, j)\n",
        "\n",
        "    # Save the results at every iteration\n",
        "    with open(\"/content/results.pkl\", 'ab') as pickle_file:\n",
        "        pickle.dump(results, pickle_file)"
      ],
      "metadata": {
        "colab": {
          "base_uri": "https://localhost:8080/"
        },
        "id": "lgTthDZLYSBQ",
        "outputId": "071ff571-e788-4ac7-c628-02b9b7afe9e7"
      },
      "id": "lgTthDZLYSBQ",
      "execution_count": null,
      "outputs": [
        {
          "output_type": "stream",
          "name": "stdout",
          "text": [
            "Files already downloaded and verified\n",
            "Files already downloaded and verified\n"
          ]
        },
        {
          "output_type": "stream",
          "name": "stderr",
          "text": [
            "Using cache found in /root/.cache/torch/hub/chenyaofo_pytorch-cifar-models_master\n",
            "100%|██████████| 20/20 [09:53<00:00, 29.69s/it]\n",
            "100%|██████████| 4/4 [01:45<00:00, 26.46s/it]\n"
          ]
        },
        {
          "output_type": "stream",
          "name": "stdout",
          "text": [
            "Files already downloaded and verified\n",
            "Files already downloaded and verified\n"
          ]
        },
        {
          "output_type": "stream",
          "name": "stderr",
          "text": [
            "Using cache found in /root/.cache/torch/hub/chenyaofo_pytorch-cifar-models_master\n",
            "100%|██████████| 20/20 [09:54<00:00, 29.71s/it]\n",
            "100%|██████████| 4/4 [01:34<00:00, 23.53s/it]\n"
          ]
        },
        {
          "output_type": "stream",
          "name": "stdout",
          "text": [
            "Files already downloaded and verified\n",
            "Files already downloaded and verified\n"
          ]
        },
        {
          "output_type": "stream",
          "name": "stderr",
          "text": [
            "Using cache found in /root/.cache/torch/hub/chenyaofo_pytorch-cifar-models_master\n",
            "100%|██████████| 20/20 [12:12<00:00, 36.63s/it]\n",
            "100%|██████████| 4/4 [02:10<00:00, 32.61s/it]\n"
          ]
        },
        {
          "output_type": "stream",
          "name": "stdout",
          "text": [
            "Files already downloaded and verified\n",
            "Files already downloaded and verified\n"
          ]
        },
        {
          "output_type": "stream",
          "name": "stderr",
          "text": [
            "Using cache found in /root/.cache/torch/hub/chenyaofo_pytorch-cifar-models_master\n",
            "100%|██████████| 20/20 [12:15<00:00, 36.76s/it]\n",
            "100%|██████████| 4/4 [01:55<00:00, 28.96s/it]\n"
          ]
        },
        {
          "output_type": "stream",
          "name": "stdout",
          "text": [
            "Files already downloaded and verified\n",
            "Files already downloaded and verified\n"
          ]
        },
        {
          "output_type": "stream",
          "name": "stderr",
          "text": [
            "Using cache found in /root/.cache/torch/hub/chenyaofo_pytorch-cifar-models_master\n",
            "Downloading: \"https://github.com/chenyaofo/pytorch-cifar-models/releases/download/resnet/cifar10_resnet44-2a3cabcb.pt\" to /root/.cache/torch/hub/checkpoints/cifar10_resnet44-2a3cabcb.pt\n",
            "100%|██████████| 2.62M/2.62M [00:00<00:00, 63.9MB/s]\n",
            "100%|██████████| 20/20 [12:16<00:00, 36.84s/it]\n",
            "100%|██████████| 4/4 [02:11<00:00, 32.86s/it]\n"
          ]
        },
        {
          "output_type": "stream",
          "name": "stdout",
          "text": [
            "Files already downloaded and verified\n",
            "Files already downloaded and verified\n"
          ]
        },
        {
          "output_type": "stream",
          "name": "stderr",
          "text": [
            "Using cache found in /root/.cache/torch/hub/chenyaofo_pytorch-cifar-models_master\n",
            "100%|██████████| 20/20 [12:15<00:00, 36.80s/it]\n",
            "100%|██████████| 4/4 [01:56<00:00, 29.22s/it]\n"
          ]
        },
        {
          "output_type": "stream",
          "name": "stdout",
          "text": [
            "Files already downloaded and verified\n",
            "Files already downloaded and verified\n"
          ]
        },
        {
          "output_type": "stream",
          "name": "stderr",
          "text": [
            "Using cache found in /root/.cache/torch/hub/chenyaofo_pytorch-cifar-models_master\n",
            "Downloading: \"https://github.com/chenyaofo/pytorch-cifar-models/releases/download/resnet/cifar10_resnet56-187c023a.pt\" to /root/.cache/torch/hub/checkpoints/cifar10_resnet56-187c023a.pt\n",
            "100%|██████████| 3.39M/3.39M [00:00<00:00, 73.3MB/s]\n",
            " 30%|███       | 6/20 [04:40<10:55, 46.81s/it]"
          ]
        }
      ]
    }
  ],
  "metadata": {
    "kernelspec": {
      "display_name": "Python 3",
      "name": "python3"
    },
    "language_info": {
      "codemirror_mode": {
        "name": "ipython",
        "version": 3
      },
      "file_extension": ".py",
      "mimetype": "text/x-python",
      "name": "python",
      "nbconvert_exporter": "python",
      "pygments_lexer": "ipython3",
      "version": "3.8.8"
    },
    "colab": {
      "provenance": [],
      "gpuType": "T4"
    },
    "accelerator": "GPU"
  },
  "nbformat": 4,
  "nbformat_minor": 5
}