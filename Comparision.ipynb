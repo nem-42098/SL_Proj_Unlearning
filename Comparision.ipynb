{
 "cells": [
  {
   "cell_type": "code",
   "execution_count": null,
   "id": "initial_id",
   "metadata": {
    "collapsed": true
   },
   "outputs": [],
   "source": [
    "from tools.Unlearner import Unlearner\n",
    "import torch\n",
    "import torchvision\n",
    "import torch.nn as nn\n",
    "import torch.nn.functional as F\n",
    "import torchvision.transforms as transforms\n",
    "from torchvision import models\n",
    "import numpy as np"
   ]
  },
  {
   "cell_type": "markdown",
   "source": [
    "# MODEL"
   ],
   "metadata": {
    "collapsed": false
   },
   "id": "7f96218c26076e68"
  },
  {
   "cell_type": "code",
   "execution_count": null,
   "outputs": [],
   "source": [
    "device=torch.device('cuda')\n",
    "model = torch.hub.load(\"chenyaofo/pytorch-cifar-models\", \"cifar10_vgg16_bn\", pretrained=True)\n",
    "model=model.to(device)"
   ],
   "metadata": {
    "collapsed": false,
    "is_executing": true
   },
   "id": "b141dbbb1bfa5fa2"
  },
  {
   "cell_type": "code",
   "execution_count": null,
   "outputs": [],
   "source": [
    "# Model USED \n",
    "# ['cifar10_vgg16_bn','cifar10_vgg19_bn', \n",
    "#'cifar10_resnet44','cifar10_resnet56',\n",
    "# 'cifar100_vgg16_bn','cifar100_vgg19_bn', \n",
    "# 'cifar100_resnet44','cifar100_resnet56']\n",
    "model = \"\"\n",
    "unlearner = Unlearner(model, lr = 1e-6, alpha=1)\n"
   ],
   "metadata": {
    "collapsed": false
   },
   "id": "125df928cb1a8006"
  },
  {
   "cell_type": "markdown",
   "source": [
    "# DATA"
   ],
   "metadata": {
    "collapsed": false
   },
   "id": "908086d9b44b1dd4"
  },
  {
   "cell_type": "code",
   "execution_count": null,
   "outputs": [],
   "source": [
    "   ### Transformation\n",
    "transform = transforms.Compose([\n",
    "    transforms.ToTensor(),\n",
    "    transforms.Normalize(\n",
    "     (0.4914, 0.4822, 0.4465), (0.2023, 0.1994, 0.2010)\n",
    "    )\n",
    "])\n",
    "\n",
    "datasets = [\"CIFAR10\",\"CIFAR100\"]\n",
    "\n",
    "### Pytorch Datasets\n",
    "def dataloaders(data, transform):\n",
    " \n",
    "    # DATASETS\n",
    "    if data == \"CIFAR10\":\n",
    "        train_dataset = torchvision.datasets.CIFAR10(\n",
    "        root= './data', train = True,\n",
    "        download =True, transform = transform)\n",
    "        test_dataset = torchvision.datasets.CIFAR10(\n",
    "        root= './data', train = False,\n",
    "        download =True, transform = transform)\n",
    "    elif data == \"CIFAR100\":\n",
    "        train_dataset = torchvision.datasets.CIFAR100(\n",
    "        root= './data', train = True,\n",
    "        download =True, transform = transform)\n",
    "        test_dataset = torchvision.datasets.CIFAR100(\n",
    "        root= './data', train = False,\n",
    "        download =True, transform = transform)\n",
    "    # DATALOADER\n",
    "    trainloader = torch.utils.data.DataLoader(train_dataset, batch_size=128, shuffle=True, num_workers=2)\n",
    "    testloader = torch.utils.data.DataLoader(test_dataset, batch_size=128, shuffle=False, num_workers=2)\n",
    "    return trainloader, testloader"
   ],
   "metadata": {
    "collapsed": false
   },
   "id": "4b0cb16ff4700c6e"
  },
  {
   "cell_type": "code",
   "execution_count": null,
   "outputs": [],
   "source": [
    "cifar100 = torchvision.datasets.CIFAR100(\n",
    "        root= './data', train = True,\n",
    "        download =True)"
   ],
   "metadata": {
    "collapsed": false,
    "is_executing": true
   },
   "id": "6b4aaa2aa0881947"
  },
  {
   "cell_type": "code",
   "execution_count": null,
   "outputs": [],
   "source": [
    "# Data Loader\n",
    "# Class split\n",
    "retain_dataloader = torch.utils.data.DataLoader(class_datasets['retain'], batch_size=128, shuffle=True, num_workers=2)\n",
    "forget_dataloader = torch.utils.data.DataLoader(class_datasets['forget'], batch_size=128, shuffle=True, num_workers=2)\n",
    "unlearn_model = unlearner.unlearn(retain_dataloader, forget_dataloader, forget_epochs=20)"
   ],
   "metadata": {
    "collapsed": false
   },
   "id": "242f2f978ebe07"
  }
 ],
 "metadata": {
  "kernelspec": {
   "display_name": "Python 3",
   "language": "python",
   "name": "python3"
  },
  "language_info": {
   "codemirror_mode": {
    "name": "ipython",
    "version": 2
   },
   "file_extension": ".py",
   "mimetype": "text/x-python",
   "name": "python",
   "nbconvert_exporter": "python",
   "pygments_lexer": "ipython2",
   "version": "2.7.6"
  }
 },
 "nbformat": 4,
 "nbformat_minor": 5
}
