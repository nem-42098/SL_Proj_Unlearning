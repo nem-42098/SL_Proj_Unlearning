{
 "cells": [
  {
   "cell_type": "markdown",
   "metadata": {
    "id": "view-in-github",
    "colab_type": "text"
   },
   "source": [
    "<a href=\"https://colab.research.google.com/github/nem-42098/SL_Proj_Unlearning/blob/main/VGG_16.ipynb\" target=\"_parent\"><img src=\"https://colab.research.google.com/assets/colab-badge.svg\" alt=\"Open In Colab\"/></a>"
   ]
  },
  {
   "cell_type": "code",
   "execution_count": 1,
   "outputs": [
    {
     "output_type": "stream",
     "name": "stdout",
     "text": [
      "Cloning into 'SL_Proj_Unlearning'...\n",
      "remote: Enumerating objects: 31, done.\u001B[K\n",
      "remote: Counting objects: 100% (31/31), done.\u001B[K\n",
      "remote: Compressing objects: 100% (20/20), done.\u001B[K\n",
      "remote: Total 31 (delta 12), reused 24 (delta 8), pack-reused 0\u001B[K\n",
      "Receiving objects: 100% (31/31), 15.09 KiB | 2.51 MiB/s, done.\n",
      "Resolving deltas: 100% (12/12), done.\n"
     ]
    }
   ],
   "source": [
    "!git clone https://github.com/nem-42098/SL_Proj_Unlearning.git\n",
    "import os\n",
    "os.chdir('/content/SL_Proj_Unlearning')"
   ],
   "metadata": {
    "colab": {
     "base_uri": "https://localhost:8080/"
    },
    "id": "SCIXLmbpKuwo",
    "outputId": "f0452157-f739-4f42-c2c7-5d248ac5facc"
   }
  },
  {
   "cell_type": "code",
   "execution_count": 2,
   "metadata": {
    "id": "6CbLaIs8Kuwq"
   },
   "outputs": [],
   "source": [
    "import torch\n",
    "import torchvision\n",
    "import torch.nn as nn\n",
    "import torch.nn.functional as F\n",
    "import torchvision.transforms as transforms\n",
    "from torchvision import models\n",
    "import numpy as np\n"
   ]
  },
  {
   "cell_type": "markdown",
   "metadata": {
    "id": "iyJgdsOfKuwr"
   },
   "source": [
    "### Load Pre-Trained VGG network\n",
    "> #### https://github.com/chenyaofo\n",
    "> ### Note: There is some issue with using Batch Norm before ReLu as it creates a bias in the network. So people exchange the order between the two for tackling the bias"
   ]
  },
  {
   "cell_type": "code",
   "execution_count": 3,
   "metadata": {
    "colab": {
     "base_uri": "https://localhost:8080/"
    },
    "id": "5wvUMz6DKuwr",
    "outputId": "8b291d56-9a33-417f-a4ef-0d43d3bb4dbc"
   },
   "outputs": [
    {
     "output_type": "stream",
     "name": "stderr",
     "text": [
      "/usr/local/lib/python3.10/dist-packages/torch/hub.py:286: UserWarning: You are about to download and run code from an untrusted repository. In a future release, this won't be allowed. To add the repository to your trusted list, change the command to {calling_fn}(..., trust_repo=False) and a command prompt will appear asking for an explicit confirmation of trust, or load(..., trust_repo=True), which will assume that the prompt is to be answered with 'yes'. You can also use load(..., trust_repo='check') which will only prompt for confirmation if the repo is not already trusted. This will eventually be the default behaviour\n",
      "  warnings.warn(\n",
      "Downloading: \"https://github.com/chenyaofo/pytorch-cifar-models/zipball/master\" to /root/.cache/torch/hub/master.zip\n",
      "Downloading: \"https://github.com/chenyaofo/pytorch-cifar-models/releases/download/vgg/cifar10_vgg11_bn-eaeebf42.pt\" to /root/.cache/torch/hub/checkpoints/cifar10_vgg11_bn-eaeebf42.pt\n",
      "100%|██████████| 37.3M/37.3M [00:00<00:00, 161MB/s]\n"
     ]
    }
   ],
   "source": [
    "### First time when you wan to download the model\n",
    "device=torch.device('cuda')\n",
    "model = torch.hub.load(\"chenyaofo/pytorch-cifar-models\", \"cifar10_vgg11_bn\", pretrained=True)\n",
    "model=model.to(device)\n",
    "### For future uses:Loading from the local\n",
    "\n",
    "# model_1=torch.hub.load(\"C:/Users/nmura/.cache/torch/hub/chenyaofo_pytorch-cifar-models_master\",'hubconf.py',source='local')\n",
    "\n"
   ]
  },
  {
   "cell_type": "markdown",
   "metadata": {
    "id": "XqWzDJ7YKuwr"
   },
   "source": [
    "### Check which pre-trained model are available:"
   ]
  },
  {
   "cell_type": "code",
   "execution_count": 4,
   "metadata": {
    "colab": {
     "base_uri": "https://localhost:8080/"
    },
    "id": "RSxUWBRyKuwr",
    "outputId": "22605340-a9f4-46cf-fdc0-71e03ffda65b"
   },
   "outputs": [
    {
     "output_type": "stream",
     "name": "stderr",
     "text": [
      "Downloading: \"https://github.com/chenyaofo/pytorch-cifar-models/zipball/master\" to /root/.cache/torch/hub/master.zip\n"
     ]
    },
    {
     "output_type": "stream",
     "name": "stdout",
     "text": [
      "['cifar100_mobilenetv2_x0_5',\n",
      " 'cifar100_mobilenetv2_x0_75',\n",
      " 'cifar100_mobilenetv2_x1_0',\n",
      " 'cifar100_mobilenetv2_x1_4',\n",
      " 'cifar100_repvgg_a0',\n",
      " 'cifar100_repvgg_a1',\n",
      " 'cifar100_repvgg_a2',\n",
      " 'cifar100_resnet20',\n",
      " 'cifar100_resnet32',\n",
      " 'cifar100_resnet44',\n",
      " 'cifar100_resnet56',\n",
      " 'cifar100_shufflenetv2_x0_5',\n",
      " 'cifar100_shufflenetv2_x1_0',\n",
      " 'cifar100_shufflenetv2_x1_5',\n",
      " 'cifar100_shufflenetv2_x2_0',\n",
      " 'cifar100_vgg11_bn',\n",
      " 'cifar100_vgg13_bn',\n",
      " 'cifar100_vgg16_bn',\n",
      " 'cifar100_vgg19_bn',\n",
      " 'cifar100_vit_b16',\n",
      " 'cifar100_vit_b32',\n",
      " 'cifar100_vit_h14',\n",
      " 'cifar100_vit_l16',\n",
      " 'cifar100_vit_l32',\n",
      " 'cifar10_mobilenetv2_x0_5',\n",
      " 'cifar10_mobilenetv2_x0_75',\n",
      " 'cifar10_mobilenetv2_x1_0',\n",
      " 'cifar10_mobilenetv2_x1_4',\n",
      " 'cifar10_repvgg_a0',\n",
      " 'cifar10_repvgg_a1',\n",
      " 'cifar10_repvgg_a2',\n",
      " 'cifar10_resnet20',\n",
      " 'cifar10_resnet32',\n",
      " 'cifar10_resnet44',\n",
      " 'cifar10_resnet56',\n",
      " 'cifar10_shufflenetv2_x0_5',\n",
      " 'cifar10_shufflenetv2_x1_0',\n",
      " 'cifar10_shufflenetv2_x1_5',\n",
      " 'cifar10_shufflenetv2_x2_0',\n",
      " 'cifar10_vgg11_bn',\n",
      " 'cifar10_vgg13_bn',\n",
      " 'cifar10_vgg16_bn',\n",
      " 'cifar10_vgg19_bn',\n",
      " 'cifar10_vit_b16',\n",
      " 'cifar10_vit_b32',\n",
      " 'cifar10_vit_h14',\n",
      " 'cifar10_vit_l16',\n",
      " 'cifar10_vit_l32']\n"
     ]
    }
   ],
   "source": [
    "from pprint import pprint\n",
    "pprint(torch.hub.list(\"chenyaofo/pytorch-cifar-models\", force_reload=True))"
   ]
  },
  {
   "cell_type": "markdown",
   "metadata": {
    "id": "e2OwEFlMKuws"
   },
   "source": [
    "### Downlaoding the Dataset and Creating the Dataloaders"
   ]
  },
  {
   "cell_type": "code",
   "execution_count": 5,
   "metadata": {
    "colab": {
     "base_uri": "https://localhost:8080/"
    },
    "id": "-01GV7HHKuws",
    "outputId": "428b3ea3-bcb0-4e87-d2aa-dfe2ab381588"
   },
   "outputs": [
    {
     "output_type": "stream",
     "name": "stdout",
     "text": [
      "Downloading https://www.cs.toronto.edu/~kriz/cifar-10-python.tar.gz to ./data/cifar-10-python.tar.gz\n"
     ]
    },
    {
     "output_type": "stream",
     "name": "stderr",
     "text": [
      "100%|██████████| 170498071/170498071 [00:02<00:00, 74589105.97it/s]\n"
     ]
    },
    {
     "output_type": "stream",
     "name": "stdout",
     "text": [
      "Extracting ./data/cifar-10-python.tar.gz to ./data\n",
      "Files already downloaded and verified\n"
     ]
    }
   ],
   "source": [
    "### Transformation\n",
    "transform = transforms.Compose([\n",
    "    transforms.ToTensor(),\n",
    "    transforms.Normalize(\n",
    "       (0.4914, 0.4822, 0.4465), (0.2023, 0.1994, 0.2010)\n",
    "    )\n",
    "])\n",
    "### Pytorch Datasets\n",
    "train_dataset = torchvision.datasets.CIFAR10(\n",
    "    root= './data', train = True,\n",
    "    download =True, transform = transform)\n",
    "test_dataset = torchvision.datasets.CIFAR10(\n",
    "    root= './data', train = False,\n",
    "    download =True, transform = transform)\n",
    "### Dataloaders\n",
    "trainloader = torch.utils.data.DataLoader(train_dataset, batch_size=128, shuffle=True, num_workers=2)\n",
    "testloader = torch.utils.data.DataLoader(test_dataset, batch_size=128, shuffle=False, num_workers=2)"
   ]
  },
  {
   "cell_type": "code",
   "execution_count": 6,
   "metadata": {
    "colab": {
     "base_uri": "https://localhost:8080/"
    },
    "id": "cclKNSe-Kuws",
    "outputId": "94d263ec-838a-45e8-c338-9f298847ac15"
   },
   "outputs": [
    {
     "output_type": "execute_result",
     "data": {
      "text/plain": [
       "50000"
      ]
     },
     "metadata": {},
     "execution_count": 6
    }
   ],
   "source": [
    "len(train_dataset)"
   ]
  },
  {
   "cell_type": "markdown",
   "metadata": {
    "id": "bOZabokbKuwt"
   },
   "source": [
    "### Create the Forget Dataset"
   ]
  },
  {
   "cell_type": "code",
   "source": [
    "# Define the classes\n",
    "classes = ['forget', 'retain']\n",
    "\n",
    "# Create a dictionary to store datasets for each class\n",
    "class_datasets = {class_name: [] for class_name in classes}\n",
    "\n",
    "# Iterate through the CIFAR-10 dataset and split it into class-specific subsets\n",
    "for image, label in train_dataset:\n",
    "  if label == 1:\n",
    "    class_datasets['forget'].append((image, label))\n",
    "\n",
    "  else:\n",
    "      class_datasets['retain'].append((image, label))\n",
    "\n",
    "# You now have class-specific subsets in the class_datasets dict\n"
   ],
   "metadata": {
    "id": "-wGG5RC2LW7m"
   },
   "execution_count": 6,
   "outputs": []
  },
  {
   "cell_type": "code",
   "source": [
    "class_datasets['forget']"
   ],
   "metadata": {
    "id": "b6hrrDB-OVRC"
   },
   "execution_count": null,
   "outputs": []
  },
  {
   "cell_type": "code",
   "execution_count": 90,
   "metadata": {
    "id": "yS7Rh0C1Kuwt"
   },
   "outputs": [],
   "source": [
    "train_split_dataset,forget_split_dataset=torch.utils.data.random_split(train_dataset,lengths=[45000,5000])"
   ]
  },
  {
   "cell_type": "markdown",
   "metadata": {
    "id": "LqTeFK7hKuwu"
   },
   "source": [
    "#### Forget and Retain"
   ]
  },
  {
   "cell_type": "code",
   "execution_count": 91,
   "metadata": {
    "id": "RbO79fHuKuwu"
   },
   "outputs": [],
   "source": [
    "retain_dataloader = torch.utils.data.DataLoader(class_datasets['retain'], batch_size=128, shuffle=True, num_workers=2)\n",
    "forget_dataloader=torch.utils.data.DataLoader(class_datasets['forget'], batch_size=128, shuffle=True, num_workers=2)"
   ]
  },
  {
   "cell_type": "markdown",
   "metadata": {
    "id": "gIUaiLLeKuwu"
   },
   "source": [
    "### Stochastic Network"
   ]
  },
  {
   "cell_type": "code",
   "execution_count": 92,
   "metadata": {
    "id": "wGhA6c_qKuwu"
   },
   "outputs": [],
   "source": [
    "def init_weights(m):\n",
    "    if isinstance(m, nn.Linear):\n",
    "        torch.nn.init.xavier_uniform(m.weight,100)\n",
    "        m.bias.data.fill_(0.)\n",
    "    elif isinstance(m, nn.Conv2d):\n",
    "        torch.nn.init.xavier_uniform(m.weight,100)"
   ]
  },
  {
   "cell_type": "code",
   "execution_count": null,
   "metadata": {
    "id": "lTtORDyjKuwv"
   },
   "outputs": [],
   "source": [
    "import copy\n",
    "unlearn_model = copy.deepcopy(model)\n",
    "model_random=copy.deepcopy(model)\n",
    "model_random=model_random.apply(init_weights)\n",
    "model_random.to(device)"
   ]
  },
  {
   "cell_type": "markdown",
   "metadata": {
    "id": "DgnenAtsKuwv"
   },
   "source": [
    "### Objective Function:\n",
    "> ### Criterion: KL divergence Loss"
   ]
  },
  {
   "cell_type": "code",
   "execution_count": 106,
   "metadata": {
    "id": "FOq0XGKgKuwv"
   },
   "outputs": [],
   "source": [
    "criterion=nn.KLDivLoss(reduction=\"batchmean\")"
   ]
  },
  {
   "cell_type": "markdown",
   "metadata": {
    "id": "7A14Fte0Kuwv"
   },
   "source": [
    "### Optimizer"
   ]
  },
  {
   "cell_type": "code",
   "execution_count": 107,
   "metadata": {
    "id": "4mdiV-PBKuwv"
   },
   "outputs": [],
   "source": [
    "optimizer = torch.optim.Adam(unlearn_model.parameters(), lr=1e-6)"
   ]
  },
  {
   "cell_type": "markdown",
   "metadata": {
    "id": "b0SfNsA-Kuwy"
   },
   "source": [
    "#### Impair Step"
   ]
  },
  {
   "cell_type": "code",
   "execution_count": 110,
   "metadata": {
    "colab": {
     "base_uri": "https://localhost:8080/"
    },
    "id": "yCLlFnp-Kuwy",
    "outputId": "ddbb2b13-cb61-4372-b952-3c2d7e2e06db"
   },
   "outputs": [
    {
     "output_type": "stream",
     "name": "stdout",
     "text": [
      "epochs 0 tensor(0.5414, device='cuda:0') tensor(2707, device='cuda:0')\n",
      "epochs 1 tensor(0.1174, device='cuda:0') tensor(587, device='cuda:0')\n"
     ]
    }
   ],
   "source": [
    "num_epochs=4\n",
    "\n",
    "for i in range(num_epochs):\n",
    "\n",
    "    num_corr=0\n",
    "    num_items=0\n",
    "    for batch_idx,(inputs,targets) in enumerate(forget_dataloader):\n",
    "\n",
    "        inputs, targets = inputs.to(device), targets.to(device)\n",
    "        #### Original Model\n",
    "        out=unlearn_model(inputs)\n",
    "\n",
    "        ## random model\n",
    "        with torch.no_grad():\n",
    "            model_random.eval()\n",
    "            out_random=model_random(inputs)\n",
    "\n",
    "        ###Zero Gradient\n",
    "        optimizer.zero_grad()\n",
    "        ### Loss of the model\n",
    "        soft=torch.nn.Softmax(dim=1)\n",
    "\n",
    "         ### Applying the siftmax to the outputs of both the networks\n",
    "        output=soft(out)\n",
    "        truth=soft(out_random)\n",
    "\n",
    "        loss=criterion(output,truth)\n",
    "\n",
    "        ### Backward Propogation\n",
    "        loss.backward()\n",
    "\n",
    "        ### Optimization step\n",
    "        optimizer.step()\n",
    "\n",
    "        ###number of correct items\n",
    "        num_corr+=torch.sum(torch.argmax(output,axis=1)==targets)\n",
    "        # print(batch_idx,num_corr)\n",
    "        # print(targets,torch.argmax(output,axis=1))\n",
    "        num_items+=targets.size(0)\n",
    "\n",
    "\n",
    "\n",
    "    print('epochs',i,num_corr/num_items,num_corr)\n",
    "\n",
    "\n",
    "\n",
    "\n",
    "\n",
    "\n",
    "\n"
   ]
  },
  {
   "cell_type": "code",
   "source": [
    "num_corr=0\n",
    "num_items=0\n",
    "for batch_idx, (inputs, targets) in enumerate(forget_dataloader):\n",
    "\n",
    "    inputs, targets = inputs.to(device), targets.to(device)\n",
    "    #### Original Model\n",
    "\n",
    "    ## random model\n",
    "    with torch.no_grad():\n",
    "        unlearn_model.eval()\n",
    "        output=unlearn_model(inputs)\n",
    "\n",
    "\n",
    "\n",
    "      ### Applying the siftmax to the outputs of both the networks\n",
    "    output=soft(output)\n",
    "\n",
    "\n",
    "\n",
    "\n",
    "    ###number of correct items\n",
    "    num_corr+=torch.sum(torch.argmax(output,axis=1)==targets)\n",
    "    # print(batch_idx,num_corr)\n",
    "    # print(targets,torch.argmax(output,axis=1))\n",
    "    num_items+=targets.size(0)\n",
    "\n",
    "print('epochs',i,num_corr/num_items,num_corr)\n"
   ],
   "metadata": {
    "colab": {
     "base_uri": "https://localhost:8080/"
    },
    "id": "WqQCQSwKRIK5",
    "outputId": "a5b601d4-f91f-4604-c659-e919ec8639ea"
   },
   "execution_count": 116,
   "outputs": [
    {
     "output_type": "stream",
     "name": "stdout",
     "text": [
      "epochs 1 tensor(0.1136, device='cuda:0') tensor(568, device='cuda:0')\n"
     ]
    }
   ]
  },
  {
   "cell_type": "markdown",
   "source": [
    "### Reconstruction step\n"
   ],
   "metadata": {
    "id": "31DOUkcqil2Z"
   }
  },
  {
   "cell_type": "code",
   "execution_count": 112,
   "outputs": [],
   "source": [
    "from tools import ReconstructionLoss"
   ],
   "metadata": {
    "id": "cmZaR93tKuwz"
   }
  },
  {
   "cell_type": "code",
   "source": [
    "criterion = ReconstructionLoss()\n",
    "\n",
    "for i in range(num_epochs):\n",
    "\n",
    "    num_corr=0\n",
    "    num_items=0\n",
    "    for batch_idx,(inputs,targets) in enumerate(retain_dataloader):\n",
    "\n",
    "        inputs, targets = inputs.to(device), targets.to(device)\n",
    "        #### Original Model\n",
    "        out=unlearn_model(inputs)\n",
    "\n",
    "        ## random model\n",
    "        with torch.no_grad():\n",
    "            model.eval()\n",
    "            out_truth=model(inputs)\n",
    "\n",
    "        ###Zero Gradient\n",
    "        optimizer.zero_grad()\n",
    "        ### Loss of the model\n",
    "        soft=torch.nn.Softmax(dim=1)\n",
    "\n",
    "         ### Applying the siftmax to the outputs of both the networks\n",
    "        output=soft(out)\n",
    "        truth=soft(out_truth)\n",
    "\n",
    "        loss=criterion(truth, output, targets)\n",
    "\n",
    "        ### Backward Propogation\n",
    "        loss.backward()\n",
    "\n",
    "        ### Optimization step\n",
    "        optimizer.step()\n",
    "\n",
    "        ###number of correct items\n",
    "        num_corr+=torch.sum(torch.argmax(output,axis=1)==targets)\n",
    "        # print(batch_idx,num_corr)\n",
    "        # print(targets,torch.argmax(output,axis=1))\n",
    "        num_items+=targets.size(0)\n",
    "\n",
    "\n",
    "\n",
    "    print('epochs',i,num_corr/num_items,num_corr)\n"
   ],
   "metadata": {
    "colab": {
     "base_uri": "https://localhost:8080/"
    },
    "id": "EQ046ESnajJd",
    "outputId": "3600d41d-2b0c-4248-a1d0-d4f41e87c49d"
   },
   "execution_count": 113,
   "outputs": [
    {
     "output_type": "stream",
     "name": "stdout",
     "text": [
      "epochs 0 tensor(0.9951, device='cuda:0') tensor(44778, device='cuda:0')\n",
      "epochs 1 tensor(0.9998, device='cuda:0') tensor(44990, device='cuda:0')\n"
     ]
    }
   ]
  },
  {
   "cell_type": "markdown",
   "metadata": {
    "id": "FgKSTcAsKuw0"
   },
   "source": [
    "### Evaluate the pre-trained model on CIFAR-10"
   ]
  },
  {
   "cell_type": "code",
   "execution_count": null,
   "metadata": {
    "id": "uHKdD4DQKuw0"
   },
   "outputs": [],
   "source": [
    "### Push the model to GPU\n",
    "device=torch.device('cuda')\n",
    "model_random=model_random.to(device)\n",
    "# output=model.forward(torch.FloatTensor(test_data[b'data'].numpy()).reshape(-1,3,32,32))"
   ]
  },
  {
   "cell_type": "code",
   "execution_count": null,
   "metadata": {
    "id": "BzRP2rFZKuw0",
    "outputId": "5fc3a284-77f6-45c8-d586-cf5550341063"
   },
   "outputs": [
    {
     "name": "stdout",
     "output_type": "stream",
     "text": [
      "tensor([2, 2, 0, 2, 4, 2, 4, 4, 0, 2, 2, 2, 4, 2, 2, 2, 2, 2, 2, 4, 2, 2, 4, 2,\n",
      "        2, 2, 2, 9, 2, 4, 4, 0, 2, 9, 2, 4, 2, 0, 2, 2, 2, 4, 4, 7, 2, 4, 4, 4,\n",
      "        4, 4, 2, 2, 4, 4, 4, 2, 2, 4, 0, 4, 2, 4, 4, 2, 2, 4, 2, 2, 3, 4, 0, 4,\n",
      "        2, 2, 2, 4, 9, 2, 4, 2, 2, 2, 4, 0, 2, 4, 2, 2, 2, 2, 4, 4, 0, 2, 2, 4,\n",
      "        4, 0, 2, 2, 0, 2, 4, 2, 4, 2, 4, 4, 4, 2, 2, 4, 2, 4, 2, 2, 2, 4, 4, 2,\n",
      "        2, 4, 4, 4, 2, 0, 4, 0], device='cuda:0')\n",
      "actual labels tensor([3, 8, 8, 0, 6, 6, 1, 6, 3, 1, 0, 9, 5, 7, 9, 8, 5, 7, 8, 6, 7, 0, 4, 9,\n",
      "        5, 2, 4, 0, 9, 6, 6, 5, 4, 5, 9, 2, 4, 1, 9, 5, 4, 6, 5, 6, 0, 9, 3, 9,\n",
      "        7, 6, 9, 8, 0, 3, 8, 8, 7, 7, 4, 6, 7, 3, 6, 3, 6, 2, 1, 2, 3, 7, 2, 6,\n",
      "        8, 8, 0, 2, 9, 3, 3, 8, 8, 1, 1, 7, 2, 5, 2, 7, 8, 9, 0, 3, 8, 6, 4, 6,\n",
      "        6, 0, 0, 7, 4, 5, 6, 3, 1, 1, 3, 6, 8, 7, 4, 0, 6, 2, 1, 3, 0, 4, 2, 7,\n",
      "        8, 3, 1, 2, 8, 0, 8, 3], device='cuda:0')\n",
      "tensor([2, 3, 7, 4, 4, 0, 0, 9, 2, 2, 4, 2, 2, 2, 0, 2, 2, 2, 4, 4, 2, 4, 2, 2,\n",
      "        4, 2, 2, 4, 0, 9, 3, 4, 2, 4, 2, 4, 4, 2, 2, 3, 0, 2, 2, 9, 0, 4, 2, 9,\n",
      "        2, 9, 0, 2, 0, 0, 4, 2, 0, 2, 4, 2, 0, 2, 4, 4, 2, 4, 4, 4, 4, 0, 4, 0,\n",
      "        9, 2, 2, 4, 2, 0, 4, 4, 2, 9, 4, 2, 2, 9, 2, 0, 2, 2, 0, 2, 2, 4, 4, 2,\n",
      "        2, 4, 2, 2, 3, 9, 4, 2, 4, 4, 2, 2, 4, 9, 9, 2, 4, 2, 4, 2, 2, 4, 3, 2,\n",
      "        4, 4, 2, 4, 4, 4, 2, 2], device='cuda:0')\n",
      "actual labels tensor([5, 2, 4, 1, 8, 9, 1, 2, 9, 7, 2, 9, 6, 5, 6, 3, 8, 7, 6, 2, 5, 2, 8, 9,\n",
      "        6, 0, 0, 5, 2, 9, 5, 4, 2, 1, 6, 6, 8, 4, 8, 4, 5, 0, 9, 9, 9, 8, 9, 9,\n",
      "        3, 7, 5, 0, 0, 5, 2, 2, 3, 8, 6, 3, 4, 0, 5, 8, 0, 1, 7, 2, 8, 8, 7, 8,\n",
      "        5, 1, 8, 7, 1, 3, 0, 5, 7, 9, 7, 4, 5, 9, 8, 0, 7, 9, 8, 2, 7, 6, 9, 4,\n",
      "        3, 9, 6, 4, 7, 6, 5, 1, 5, 8, 8, 0, 4, 0, 5, 5, 1, 1, 8, 9, 0, 3, 1, 9,\n",
      "        2, 2, 5, 3, 9, 9, 4, 0], device='cuda:0')\n",
      "tensor([4, 0, 2, 2, 4, 4, 4, 4, 2, 2, 4, 4, 9, 0, 0, 0, 4, 4, 2, 0, 2, 4, 2, 4,\n",
      "        4, 3, 0, 2, 2, 2, 2, 9, 2, 4, 4, 4, 2, 2, 4, 2, 4, 2, 2, 4, 4, 2, 4, 4,\n",
      "        4, 2, 2, 2, 4, 4, 2, 4, 2, 0, 2, 9, 2, 4, 4, 2, 0, 2, 4, 4, 2, 2, 3, 2,\n",
      "        2, 3, 3, 0, 2, 4, 4, 2, 3, 2, 0, 4, 0, 4, 2, 2, 2, 4, 9, 7, 0, 2, 4, 3,\n",
      "        9, 2, 0, 2, 0, 9, 2, 4, 4, 2, 2, 2, 2, 9, 4, 2, 4, 2, 2, 2, 4, 2, 4, 2,\n",
      "        0, 4, 4, 4, 4, 2, 0, 2], device='cuda:0')\n",
      "actual labels tensor([3, 0, 0, 9, 8, 1, 5, 7, 0, 8, 2, 4, 7, 0, 2, 3, 6, 3, 8, 5, 0, 3, 4, 3,\n",
      "        9, 0, 6, 1, 0, 9, 1, 0, 7, 9, 1, 2, 6, 9, 3, 4, 6, 0, 0, 6, 6, 6, 3, 2,\n",
      "        6, 1, 8, 2, 1, 6, 8, 6, 8, 0, 4, 0, 7, 7, 5, 5, 3, 5, 2, 3, 4, 1, 7, 5,\n",
      "        4, 6, 1, 9, 3, 6, 6, 9, 3, 8, 0, 7, 2, 6, 2, 5, 8, 5, 4, 6, 8, 9, 9, 1,\n",
      "        0, 2, 2, 7, 3, 2, 8, 0, 9, 5, 8, 1, 9, 4, 1, 3, 8, 1, 4, 7, 9, 4, 2, 7,\n",
      "        0, 7, 0, 6, 6, 9, 0, 9], device='cuda:0')\n",
      "tensor([4, 0, 4, 4, 2, 9, 4, 2, 3, 4, 4, 4, 2, 4, 2, 2, 4, 2, 0, 2, 2, 4, 2, 4,\n",
      "        4, 2, 2, 2, 2, 4, 2, 2, 2, 2, 2, 4, 4, 4, 2, 2, 0, 2, 2, 2, 4, 0, 4, 2,\n",
      "        2, 4, 2, 4, 2, 4, 4, 4, 2, 2, 2, 2, 2, 4, 2, 2, 0, 2, 2, 2, 4, 2, 2, 2,\n",
      "        4, 2, 4, 2, 4, 4, 2, 2, 2, 0, 2, 2, 3, 4, 4, 0, 2, 2, 4, 2, 2, 9, 4, 9,\n",
      "        0, 4, 9, 4, 4, 9, 2, 4, 2, 4, 4, 2, 2, 2, 2, 2, 2, 4, 4, 2, 4, 2, 4, 4,\n",
      "        9, 2, 2, 2, 0, 4, 4, 4], device='cuda:0')\n",
      "actual labels tensor([2, 8, 7, 2, 2, 5, 1, 2, 6, 2, 9, 6, 2, 3, 0, 3, 9, 8, 7, 8, 8, 4, 0, 1,\n",
      "        8, 2, 7, 9, 3, 6, 1, 9, 0, 7, 3, 7, 4, 5, 0, 0, 2, 9, 3, 4, 0, 6, 2, 5,\n",
      "        3, 7, 3, 7, 2, 5, 3, 1, 1, 4, 9, 9, 5, 7, 5, 0, 2, 2, 2, 9, 7, 3, 9, 4,\n",
      "        3, 5, 4, 6, 5, 6, 1, 4, 3, 4, 4, 3, 7, 8, 3, 7, 8, 0, 5, 7, 6, 0, 5, 4,\n",
      "        8, 6, 8, 5, 5, 9, 9, 9, 5, 0, 1, 0, 8, 1, 1, 8, 0, 2, 2, 0, 4, 6, 5, 4,\n",
      "        9, 4, 7, 9, 9, 4, 5, 6], device='cuda:0')\n"
     ]
    }
   ],
   "source": [
    "with torch.no_grad():\n",
    "    model_random.eval()\n",
    "    for batch_idx, (inputs, targets) in enumerate(testloader):\n",
    "        inputs, targets = inputs.to(device), targets.to(device)\n",
    "        out=model_random(inputs)\n",
    "        print(torch.argmax(out,axis=1))\n",
    "        print('actual labels',targets)\n",
    "\n",
    "        if batch_idx==3:\n",
    "            break\n"
   ]
  },
  {
   "cell_type": "code",
   "execution_count": null,
   "metadata": {
    "id": "UgTSixEsKuw0",
    "outputId": "f2c2a961-9f3d-4551-a87f-f6bf1ed81889"
   },
   "outputs": [
    {
     "data": {
      "text/plain": [
       "tensor([[ 1.8442e+31, -5.0307e+30,  2.1097e+31,  ...,  1.1683e+31,\n",
       "          1.2616e+31,  1.1677e+31],\n",
       "        [ 4.9849e+31, -3.4924e+31,  4.3136e+31,  ...,  1.7350e+31,\n",
       "          8.5682e+30,  4.2503e+31],\n",
       "        [ 1.5537e+31, -1.9391e+31,  2.5463e+31,  ...,  4.4038e+30,\n",
       "          1.0957e+31,  2.6654e+31],\n",
       "        ...,\n",
       "        [ 7.9146e+30, -1.0102e+31,  2.3317e+31,  ...,  2.3273e+31,\n",
       "          1.3055e+31,  1.0298e+31],\n",
       "        [ 2.4701e+31, -2.6977e+31,  1.9855e+31,  ...,  2.3883e+31,\n",
       "          9.3079e+30,  1.8130e+31],\n",
       "        [ 1.3003e+31, -1.2094e+31,  1.7972e+31,  ...,  1.8652e+31,\n",
       "          3.4659e+30,  2.0752e+31]], device='cuda:0')"
      ]
     },
     "execution_count": 76,
     "metadata": {},
     "output_type": "execute_result"
    }
   ],
   "source": [
    "out"
   ]
  },
  {
   "cell_type": "code",
   "execution_count": null,
   "metadata": {
    "id": "roGco99-Kuw0",
    "outputId": "cd206c8a-393f-47ed-9c29-83dd5c14fccd"
   },
   "outputs": [
    {
     "data": {
      "text/plain": [
       "tensor([3, 8, 8, 0, 6, 6, 1, 6, 3, 1, 0, 9, 5, 7, 9, 8, 5, 7, 8, 6, 7, 0, 4, 9,\n",
       "        5, 2, 4, 0, 9, 6, 6, 5, 4, 5, 9, 2, 4, 1, 9, 5, 4, 6, 5, 6, 0, 9, 3, 9,\n",
       "        7, 6, 9, 8, 0, 3, 8, 8, 7, 7, 4, 6, 7, 3, 6, 3, 6, 2, 1, 2, 3, 7, 2, 6,\n",
       "        8, 8, 0, 2, 9, 3, 3, 8, 8, 1, 1, 7, 2, 5, 2, 7, 8, 9, 0, 3, 8, 6, 4, 6,\n",
       "        6, 0, 0, 7, 4, 5, 6, 3, 1, 1, 3, 6, 8, 7, 4, 0, 6, 2, 1, 3, 0, 4, 2, 7,\n",
       "        8, 3, 1, 2, 8, 0, 8, 3], device='cuda:0')"
      ]
     },
     "execution_count": 21,
     "metadata": {},
     "output_type": "execute_result"
    }
   ],
   "source": [
    "targets"
   ]
  },
  {
   "cell_type": "code",
   "execution_count": null,
   "metadata": {
    "id": "Ypu-cC6CKuw1"
   },
   "outputs": [],
   "source": [
    "x=torch.FloatTensor(test_data[b'data'].numpy()).reshape(-1,32,32,3)\n",
    "### normalisation\n",
    "\n",
    "var=x.reshape(10000,-1,3)\n",
    "var_min=var.min(1,keepdim=True)[0]\n",
    "var_min=var_min.unsqueeze(1)\n",
    "\n",
    "var_max=var.max(1,keepdim=True)[0]\n",
    "var_max=var_max.unsqueeze(1)\n",
    "\n",
    "\n",
    "x=(x-var_min)/(x-var_max)\n",
    "### correct input order\n",
    "x=x.permute(0,3,1,2)\n",
    "## standardise\n",
    "x=torchvision.transforms.functional.normalize(x,mean=[0.4914, 0.4822, 0.4465],std=[0.2023, 0.1994, 0.2010])\n",
    "x=x.to(device)"
   ]
  },
  {
   "cell_type": "code",
   "execution_count": null,
   "metadata": {
    "id": "19TCZODMKuw1",
    "outputId": "668ea122-e7aa-48bf-8328-f97a58200ec5"
   },
   "outputs": [
    {
     "data": {
      "text/plain": [
       "torch.Size([128, 3, 224, 224])"
      ]
     },
     "execution_count": 12,
     "metadata": {},
     "output_type": "execute_result"
    }
   ],
   "source": [
    "inputs.shape"
   ]
  },
  {
   "cell_type": "code",
   "execution_count": null,
   "metadata": {
    "id": "VVFtjgXLKuw1"
   },
   "outputs": [],
   "source": [
    "with torch.no_grad():\n",
    "    model.eval()\n",
    "    out=model.forward(x[0:300])"
   ]
  },
  {
   "cell_type": "code",
   "execution_count": null,
   "metadata": {
    "id": "-M2hgJz_Kuw1",
    "outputId": "e60c2c29-cf7f-44c5-c5a6-d8d73ff2919d"
   },
   "outputs": [
    {
     "data": {
      "text/plain": [
       "torch.Size([300, 10])"
      ]
     },
     "execution_count": 74,
     "metadata": {},
     "output_type": "execute_result"
    }
   ],
   "source": [
    "out.shape"
   ]
  },
  {
   "cell_type": "code",
   "execution_count": null,
   "metadata": {
    "id": "lDjjQJmOKuw1",
    "outputId": "d607b53f-ecec-4504-f79b-1c20ac1048cf"
   },
   "outputs": [
    {
     "data": {
      "text/plain": [
       "tensor([0, 0, 0, 0, 0, 0, 0, 0, 0, 0, 0, 0, 0, 0, 0, 0, 0, 0, 0, 0, 0, 0, 0, 0,\n",
       "        0, 0, 0, 0, 0, 0, 0, 0, 0, 0, 0, 0, 0, 0, 0, 0, 0, 0, 0, 0, 0, 0, 0, 0,\n",
       "        0, 0, 0, 0, 0, 0, 0, 0, 0, 0, 0, 0, 0, 0, 0, 0, 0, 0, 0, 0, 0, 0, 0, 0,\n",
       "        0, 0, 0, 0, 0, 0, 0, 0, 0, 0, 0, 0, 0, 0, 0, 0, 0, 0, 0, 0, 0, 0, 0, 0,\n",
       "        0, 0, 0, 0, 0, 0, 0, 0, 0, 0, 0, 0, 0, 0, 0, 0, 0, 0, 0, 0, 0, 0, 0, 0,\n",
       "        0, 0, 0, 0, 0, 0, 0, 0, 0, 0, 0, 0, 0, 0, 0, 0, 0, 0, 0, 0, 0, 0, 0, 0,\n",
       "        0, 0, 0, 0, 0, 0, 0, 0, 0, 0, 0, 0, 0, 0, 0, 0, 0, 0, 0, 0, 0, 0, 0, 0,\n",
       "        0, 0, 0, 0, 0, 0, 0, 0, 0, 0, 0, 0, 0, 0, 0, 0, 0, 0, 0, 0, 0, 0, 0, 0,\n",
       "        0, 0, 0, 0, 0, 0, 0, 0, 0, 0, 0, 0, 0, 0, 0, 0, 0, 0, 0, 0, 0, 0, 0, 0,\n",
       "        0, 0, 0, 0, 0, 0, 0, 0, 0, 0, 0, 0, 0, 0, 0, 0, 0, 0, 0, 0, 0, 0, 0, 0,\n",
       "        0, 0, 0, 0, 0, 0, 0, 0, 0, 0, 0, 0, 0, 0, 0, 0, 0, 0, 0, 0, 0, 0, 0, 0,\n",
       "        0, 0, 0, 0, 0, 0, 0, 0, 0, 0, 0, 0, 0, 0, 0, 0, 0, 0, 0, 0, 0, 0, 0, 0,\n",
       "        0, 0, 0, 0, 0, 0, 0, 0, 0, 0, 0, 0], device='cuda:0')"
      ]
     },
     "execution_count": 138,
     "metadata": {},
     "output_type": "execute_result"
    }
   ],
   "source": [
    "torch.argmax(out,axis=1)"
   ]
  },
  {
   "cell_type": "code",
   "execution_count": null,
   "metadata": {
    "id": "3GNTVaH8Kuw2",
    "outputId": "670876ee-c975-487f-f1c7-5c3ac6a99d67"
   },
   "outputs": [
    {
     "data": {
      "text/plain": [
       "[3,\n",
       " 8,\n",
       " 8,\n",
       " 0,\n",
       " 6,\n",
       " 6,\n",
       " 1,\n",
       " 6,\n",
       " 3,\n",
       " 1,\n",
       " 0,\n",
       " 9,\n",
       " 5,\n",
       " 7,\n",
       " 9,\n",
       " 8,\n",
       " 5,\n",
       " 7,\n",
       " 8,\n",
       " 6,\n",
       " 7,\n",
       " 0,\n",
       " 4,\n",
       " 9,\n",
       " 5,\n",
       " 2,\n",
       " 4,\n",
       " 0,\n",
       " 9,\n",
       " 6]"
      ]
     },
     "execution_count": 107,
     "metadata": {},
     "output_type": "execute_result"
    }
   ],
   "source": [
    "test_data[b'labels'][0:30]"
   ]
  },
  {
   "cell_type": "code",
   "execution_count": 34,
   "metadata": {
    "id": "yP888uHtKuw2"
   },
   "outputs": [],
   "source": [
    "\n",
    "torch.cuda.empty_cache()"
   ]
  }
 ],
 "metadata": {
  "kernelspec": {
   "display_name": "Python 3",
   "name": "python3"
  },
  "language_info": {
   "codemirror_mode": {
    "name": "ipython",
    "version": 3
   },
   "file_extension": ".py",
   "mimetype": "text/x-python",
   "name": "python",
   "nbconvert_exporter": "python",
   "pygments_lexer": "ipython3",
   "version": "3.9.12"
  },
  "colab": {
   "provenance": [],
   "gpuType": "T4",
   "include_colab_link": true
  },
  "accelerator": "GPU"
 },
 "nbformat": 4,
 "nbformat_minor": 0
}
