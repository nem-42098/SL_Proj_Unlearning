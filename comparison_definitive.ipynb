{
  "nbformat": 4,
  "nbformat_minor": 0,
  "metadata": {
    "colab": {
      "provenance": []
    },
    "kernelspec": {
      "name": "python3",
      "display_name": "Python 3"
    },
    "language_info": {
      "name": "python"
    }
  },
  "cells": [
    {
      "cell_type": "markdown",
      "source": [
        "# Comparison Notebook"
      ],
      "metadata": {
        "id": "tTFZnTNFyoYI"
      }
    },
    {
      "cell_type": "code",
      "source": [
        "import pickle\n",
        "import pandas as pd\n",
        "import numpy as np\n",
        "from tools.Unlearner import Unlearner\n",
        "import torch\n",
        "import torchvision\n",
        "import torch.nn as nn\n",
        "import torch.nn.functional as F\n",
        "import torchvision.transforms as transforms\n",
        "from torchvision import models\n",
        "import numpy as np\n",
        "from types import ClassMethodDescriptorType\n",
        "from torchvision.datasets.inaturalist import DATASET_MD5\n",
        "import time\n",
        "import seaborn as sns\n",
        "import comparison"
      ],
      "metadata": {
        "id": "mwb5nZtLyqY7"
      },
      "execution_count": null,
      "outputs": []
    },
    {
      "cell_type": "markdown",
      "source": [
        "## IMPORTANT\n",
        "The function  comparison.metrics(data,i,j) uses always the file Unlearner which contians the Stochastic Teacher algorithm. So in order to use other algorithms, we need to make a change there and make it more flexible"
      ],
      "metadata": {
        "id": "j1-BAXjO1lk5"
      }
    },
    {
      "cell_type": "markdown",
      "source": [
        "# CIFAR 10"
      ],
      "metadata": {
        "id": "6RKks7TIzQQ6"
      }
    },
    {
      "cell_type": "markdown",
      "source": [
        "### Import Results File"
      ],
      "metadata": {
        "id": "Aj80kjtvy_Vc"
      }
    },
    {
      "cell_type": "markdown",
      "source": [
        "Import File with results if you already have them"
      ],
      "metadata": {
        "id": "qy8xPuhM1DBR"
      }
    },
    {
      "cell_type": "code",
      "source": [
        "# Specify the file path where the PKL file is located\n",
        "file_path = 'cifar_10.pkl'  # Replace with the path to your PKL file\n",
        "\n",
        "# Open the file in binary read mode\n",
        "with open(file_path, 'rb') as file:\n",
        "    cifar_10 = pickle.load(file)\n",
        "\n",
        "# Now, loaded_dict contains the dictionary loaded from the PKL file\n",
        "print(cifar_10)"
      ],
      "metadata": {
        "colab": {
          "base_uri": "https://localhost:8080/"
        },
        "id": "ndfaicBSzCmR",
        "outputId": "825e6169-b802-49ff-d146-6bb964173205"
      },
      "execution_count": 80,
      "outputs": [
        {
          "output_type": "stream",
          "name": "stdout",
          "text": [
            "{('CIFAR10', 'cifar10_vgg16_bn', 1): {'forget_unlearn_model': 0.0, 'forget_original_model': 1.0, 'retain_unlearn_model': 0.1111111111111111, 'retain_original_model': 0.9999777777777777, 'test_unlearn_model': 0.1, 'test_original_model': 0.9416, 'unlearn_model': 687.8756194114685}, ('CIFAR10', 'cifar10_vgg19_bn', 1): {'forget_unlearn_model': 0.0, 'forget_original_model': 1.0, 'retain_unlearn_model': 0.1111111111111111, 'retain_original_model': 0.9999555555555556, 'test_unlearn_model': 0.1, 'test_original_model': 0.9391, 'unlearn_model_time': 846.52863073349}, ('CIFAR10', 'cifar10_resnet44', 1): {'forget_unlearn_model': 0.0, 'forget_original_model': 1.0, 'retain_unlearn_model': 0.9763777777777778, 'retain_original_model': 0.9998888888888889, 'test_unlearn_model': 0.7476, 'test_original_model': 0.9401, 'unlearn_model_time': 850.3469896316528}, ('CIFAR10', 'cifar10_resnet56', 1): {'forget_unlearn_model': 0.0, 'forget_original_model': 1.0, 'retain_unlearn_model': 0.9762222222222222, 'retain_original_model': 1.0, 'test_unlearn_model': 0.7462, 'test_original_model': 0.9437, 'unlearn_model_time': 1080.1811006069183}, ('CIFAR10', 'cifar10_vgg16_bn', 2): {'forget_unlearn_model': 0.0, 'forget_original_model': 1.0, 'retain_unlearn_model': 0.125, 'retain_original_model': 0.999975, 'test_unlearn_model': 0.1, 'test_original_model': 0.9416, 'unlearn_model_time': 690.0082287788391}, ('CIFAR10', 'cifar10_vgg19_bn', 2): {'forget_unlearn_model': 0.0, 'forget_original_model': 1.0, 'retain_unlearn_model': 0.125, 'retain_original_model': 0.99995, 'test_unlearn_model': 0.1, 'test_original_model': 0.9391, 'unlearn_model_time': 840.6518239974976}, ('CIFAR10', 'cifar10_resnet44', 2): {'forget_unlearn_model': 0.0, 'forget_original_model': 0.9999, 'retain_unlearn_model': 0.98205, 'retain_original_model': 0.9999, 'test_unlearn_model': 0.6728, 'test_original_model': 0.9401, 'unlearn_model_time': 845.3409259319305}, ('CIFAR10', 'cifar10_resnet56', 2): {'forget_unlearn_model': 0.0, 'forget_original_model': 1.0, 'retain_unlearn_model': 0.98105, 'retain_original_model': 1.0, 'test_unlearn_model': 0.68, 'test_original_model': 0.9437, 'unlearn_model_time': 1073.8357739448547}}\n"
          ]
        }
      ]
    },
    {
      "cell_type": "markdown",
      "source": [
        "This is the code to run the different combinations of models, labels and subsets of the data on CIFAR 10."
      ],
      "metadata": {
        "id": "DgkNLbWr0s_y"
      }
    },
    {
      "cell_type": "code",
      "source": [
        "## CIFAR10\n",
        "\n",
        "models = {\"CIFAR10\": ['cifar10_vgg16_bn','cifar10_vgg19_bn', 'cifar10_resnet44','cifar10_resnet56']}\n",
        "classes = [[1],[1,2]]\n",
        "cifar_10 = {}\n",
        "for data,model in models.items():\n",
        "  for i in model:\n",
        "    for j in classes:\n",
        "      cifar_10[data,i,len(j)] = comparison.metrics(data,i,j)\n",
        "cifar_10"
      ],
      "metadata": {
        "id": "jha7_zkl0Ddx"
      },
      "execution_count": null,
      "outputs": []
    },
    {
      "cell_type": "markdown",
      "source": [
        "### Export Results File"
      ],
      "metadata": {
        "id": "EN9VUzcPymiH"
      }
    },
    {
      "cell_type": "code",
      "source": [
        "# Specify the file path\n",
        "file_path = 'cifar_100.pkl'\n",
        "\n",
        "# Open the file in binary write mode\n",
        "with open(file_path, 'wb') as file:\n",
        "    pickle.dump(cifar_100, file)\n",
        "\n",
        "print(\"Dictionary saved to\", file_path)"
      ],
      "metadata": {
        "colab": {
          "base_uri": "https://localhost:8080/"
        },
        "id": "n55iGUcxybbD",
        "outputId": "f049cb2a-55c4-491d-921e-ccf96335730e"
      },
      "execution_count": 75,
      "outputs": [
        {
          "output_type": "stream",
          "name": "stdout",
          "text": [
            "Dictionary saved to cifar_100.pkl\n"
          ]
        }
      ]
    },
    {
      "cell_type": "markdown",
      "source": [
        "### Show results"
      ],
      "metadata": {
        "id": "mvo0OupG1U5i"
      }
    },
    {
      "cell_type": "code",
      "source": [
        "# Create a MultiIndex for rows and columns\n",
        "rows = pd.MultiIndex.from_tuples([('cifar10_vgg16_bn', '1'), ('cifar10_vgg16_bn', '2'), ('cifar10_vgg19_bn', '1'), ('cifar10_vgg19_bn', '2'),\n",
        "                                  ('cifar10_resnet44', '1'), ('cifar10_resnet44', '2'), ('cifar10_resnet56', '1'), ('cifar10_resnet56', '2')], names=['Model', 'Labels'])\n",
        "columns = pd.MultiIndex.from_tuples([('Forget', 'Unlearned'),('Forget', 'Original'), ('Retain', 'Unlearned'),('Retain', 'Original'),('Test', 'Unlearned'),('Test', 'Original')], names=['Dataset', 'Model'])\n",
        "\n",
        "data = np.empty((8, 6))\n",
        "for j,z in enumerate(cifar_10.values()):\n",
        "  for i,v in enumerate(list(z.values())[0:6]):\n",
        "    data[j,i] = v\n",
        "# Create the DataFrame\n",
        "df = pd.DataFrame(data, index=rows, columns=columns)\n",
        "\n",
        "\n",
        "# Function to center-align text\n",
        "def center_align(val):\n",
        "    return 'text-align: center'\n",
        "def format_index(label):\n",
        "    return f'[{label}]'\n",
        "\n",
        "# Apply styling to format and center-align the MultiIndex labels\n",
        "styled_df = df.rename_axis(index=format_index).style.set_table_styles(\n",
        "    [{'selector': 'th', 'props': [('text-align', 'center')]}], axis=0)\n",
        "# Display the styled DataFrame\n",
        "\n",
        "\n",
        "styled_df"
      ],
      "metadata": {
        "colab": {
          "base_uri": "https://localhost:8080/",
          "height": 362
        },
        "id": "nzYbBQzRxsi5",
        "outputId": "36f4a371-b0c8-416a-b2d9-e8962217a87a"
      },
      "execution_count": 81,
      "outputs": [
        {
          "output_type": "execute_result",
          "data": {
            "text/plain": [
              "<pandas.io.formats.style.Styler at 0x78641cd73400>"
            ],
            "text/html": [
              "<style type=\"text/css\">\n",
              "#T_c8f31 th {\n",
              "  text-align: center;\n",
              "}\n",
              "</style>\n",
              "<table id=\"T_c8f31\" class=\"dataframe\">\n",
              "  <thead>\n",
              "    <tr>\n",
              "      <th class=\"blank\" >&nbsp;</th>\n",
              "      <th class=\"index_name level0\" >Dataset</th>\n",
              "      <th id=\"T_c8f31_level0_col0\" class=\"col_heading level0 col0\" colspan=\"2\">Forget</th>\n",
              "      <th id=\"T_c8f31_level0_col2\" class=\"col_heading level0 col2\" colspan=\"2\">Retain</th>\n",
              "      <th id=\"T_c8f31_level0_col4\" class=\"col_heading level0 col4\" colspan=\"2\">Test</th>\n",
              "    </tr>\n",
              "    <tr>\n",
              "      <th class=\"blank\" >&nbsp;</th>\n",
              "      <th class=\"index_name level1\" >Model</th>\n",
              "      <th id=\"T_c8f31_level1_col0\" class=\"col_heading level1 col0\" >Unlearned</th>\n",
              "      <th id=\"T_c8f31_level1_col1\" class=\"col_heading level1 col1\" >Original</th>\n",
              "      <th id=\"T_c8f31_level1_col2\" class=\"col_heading level1 col2\" >Unlearned</th>\n",
              "      <th id=\"T_c8f31_level1_col3\" class=\"col_heading level1 col3\" >Original</th>\n",
              "      <th id=\"T_c8f31_level1_col4\" class=\"col_heading level1 col4\" >Unlearned</th>\n",
              "      <th id=\"T_c8f31_level1_col5\" class=\"col_heading level1 col5\" >Original</th>\n",
              "    </tr>\n",
              "    <tr>\n",
              "      <th class=\"index_name level0\" >[Model]</th>\n",
              "      <th class=\"index_name level1\" >[Labels]</th>\n",
              "      <th class=\"blank col0\" >&nbsp;</th>\n",
              "      <th class=\"blank col1\" >&nbsp;</th>\n",
              "      <th class=\"blank col2\" >&nbsp;</th>\n",
              "      <th class=\"blank col3\" >&nbsp;</th>\n",
              "      <th class=\"blank col4\" >&nbsp;</th>\n",
              "      <th class=\"blank col5\" >&nbsp;</th>\n",
              "    </tr>\n",
              "  </thead>\n",
              "  <tbody>\n",
              "    <tr>\n",
              "      <th id=\"T_c8f31_level0_row0\" class=\"row_heading level0 row0\" rowspan=\"2\">cifar10_vgg16_bn</th>\n",
              "      <th id=\"T_c8f31_level1_row0\" class=\"row_heading level1 row0\" >1</th>\n",
              "      <td id=\"T_c8f31_row0_col0\" class=\"data row0 col0\" >0.000000</td>\n",
              "      <td id=\"T_c8f31_row0_col1\" class=\"data row0 col1\" >1.000000</td>\n",
              "      <td id=\"T_c8f31_row0_col2\" class=\"data row0 col2\" >0.111111</td>\n",
              "      <td id=\"T_c8f31_row0_col3\" class=\"data row0 col3\" >0.999978</td>\n",
              "      <td id=\"T_c8f31_row0_col4\" class=\"data row0 col4\" >0.100000</td>\n",
              "      <td id=\"T_c8f31_row0_col5\" class=\"data row0 col5\" >0.941600</td>\n",
              "    </tr>\n",
              "    <tr>\n",
              "      <th id=\"T_c8f31_level1_row1\" class=\"row_heading level1 row1\" >2</th>\n",
              "      <td id=\"T_c8f31_row1_col0\" class=\"data row1 col0\" >0.000000</td>\n",
              "      <td id=\"T_c8f31_row1_col1\" class=\"data row1 col1\" >1.000000</td>\n",
              "      <td id=\"T_c8f31_row1_col2\" class=\"data row1 col2\" >0.111111</td>\n",
              "      <td id=\"T_c8f31_row1_col3\" class=\"data row1 col3\" >0.999956</td>\n",
              "      <td id=\"T_c8f31_row1_col4\" class=\"data row1 col4\" >0.100000</td>\n",
              "      <td id=\"T_c8f31_row1_col5\" class=\"data row1 col5\" >0.939100</td>\n",
              "    </tr>\n",
              "    <tr>\n",
              "      <th id=\"T_c8f31_level0_row2\" class=\"row_heading level0 row2\" rowspan=\"2\">cifar10_vgg19_bn</th>\n",
              "      <th id=\"T_c8f31_level1_row2\" class=\"row_heading level1 row2\" >1</th>\n",
              "      <td id=\"T_c8f31_row2_col0\" class=\"data row2 col0\" >0.000000</td>\n",
              "      <td id=\"T_c8f31_row2_col1\" class=\"data row2 col1\" >1.000000</td>\n",
              "      <td id=\"T_c8f31_row2_col2\" class=\"data row2 col2\" >0.976378</td>\n",
              "      <td id=\"T_c8f31_row2_col3\" class=\"data row2 col3\" >0.999889</td>\n",
              "      <td id=\"T_c8f31_row2_col4\" class=\"data row2 col4\" >0.747600</td>\n",
              "      <td id=\"T_c8f31_row2_col5\" class=\"data row2 col5\" >0.940100</td>\n",
              "    </tr>\n",
              "    <tr>\n",
              "      <th id=\"T_c8f31_level1_row3\" class=\"row_heading level1 row3\" >2</th>\n",
              "      <td id=\"T_c8f31_row3_col0\" class=\"data row3 col0\" >0.000000</td>\n",
              "      <td id=\"T_c8f31_row3_col1\" class=\"data row3 col1\" >1.000000</td>\n",
              "      <td id=\"T_c8f31_row3_col2\" class=\"data row3 col2\" >0.976222</td>\n",
              "      <td id=\"T_c8f31_row3_col3\" class=\"data row3 col3\" >1.000000</td>\n",
              "      <td id=\"T_c8f31_row3_col4\" class=\"data row3 col4\" >0.746200</td>\n",
              "      <td id=\"T_c8f31_row3_col5\" class=\"data row3 col5\" >0.943700</td>\n",
              "    </tr>\n",
              "    <tr>\n",
              "      <th id=\"T_c8f31_level0_row4\" class=\"row_heading level0 row4\" rowspan=\"2\">cifar10_resnet44</th>\n",
              "      <th id=\"T_c8f31_level1_row4\" class=\"row_heading level1 row4\" >1</th>\n",
              "      <td id=\"T_c8f31_row4_col0\" class=\"data row4 col0\" >0.000000</td>\n",
              "      <td id=\"T_c8f31_row4_col1\" class=\"data row4 col1\" >1.000000</td>\n",
              "      <td id=\"T_c8f31_row4_col2\" class=\"data row4 col2\" >0.125000</td>\n",
              "      <td id=\"T_c8f31_row4_col3\" class=\"data row4 col3\" >0.999975</td>\n",
              "      <td id=\"T_c8f31_row4_col4\" class=\"data row4 col4\" >0.100000</td>\n",
              "      <td id=\"T_c8f31_row4_col5\" class=\"data row4 col5\" >0.941600</td>\n",
              "    </tr>\n",
              "    <tr>\n",
              "      <th id=\"T_c8f31_level1_row5\" class=\"row_heading level1 row5\" >2</th>\n",
              "      <td id=\"T_c8f31_row5_col0\" class=\"data row5 col0\" >0.000000</td>\n",
              "      <td id=\"T_c8f31_row5_col1\" class=\"data row5 col1\" >1.000000</td>\n",
              "      <td id=\"T_c8f31_row5_col2\" class=\"data row5 col2\" >0.125000</td>\n",
              "      <td id=\"T_c8f31_row5_col3\" class=\"data row5 col3\" >0.999950</td>\n",
              "      <td id=\"T_c8f31_row5_col4\" class=\"data row5 col4\" >0.100000</td>\n",
              "      <td id=\"T_c8f31_row5_col5\" class=\"data row5 col5\" >0.939100</td>\n",
              "    </tr>\n",
              "    <tr>\n",
              "      <th id=\"T_c8f31_level0_row6\" class=\"row_heading level0 row6\" rowspan=\"2\">cifar10_resnet56</th>\n",
              "      <th id=\"T_c8f31_level1_row6\" class=\"row_heading level1 row6\" >1</th>\n",
              "      <td id=\"T_c8f31_row6_col0\" class=\"data row6 col0\" >0.000000</td>\n",
              "      <td id=\"T_c8f31_row6_col1\" class=\"data row6 col1\" >0.999900</td>\n",
              "      <td id=\"T_c8f31_row6_col2\" class=\"data row6 col2\" >0.982050</td>\n",
              "      <td id=\"T_c8f31_row6_col3\" class=\"data row6 col3\" >0.999900</td>\n",
              "      <td id=\"T_c8f31_row6_col4\" class=\"data row6 col4\" >0.672800</td>\n",
              "      <td id=\"T_c8f31_row6_col5\" class=\"data row6 col5\" >0.940100</td>\n",
              "    </tr>\n",
              "    <tr>\n",
              "      <th id=\"T_c8f31_level1_row7\" class=\"row_heading level1 row7\" >2</th>\n",
              "      <td id=\"T_c8f31_row7_col0\" class=\"data row7 col0\" >0.000000</td>\n",
              "      <td id=\"T_c8f31_row7_col1\" class=\"data row7 col1\" >1.000000</td>\n",
              "      <td id=\"T_c8f31_row7_col2\" class=\"data row7 col2\" >0.981050</td>\n",
              "      <td id=\"T_c8f31_row7_col3\" class=\"data row7 col3\" >1.000000</td>\n",
              "      <td id=\"T_c8f31_row7_col4\" class=\"data row7 col4\" >0.680000</td>\n",
              "      <td id=\"T_c8f31_row7_col5\" class=\"data row7 col5\" >0.943700</td>\n",
              "    </tr>\n",
              "  </tbody>\n",
              "</table>\n"
            ]
          },
          "metadata": {},
          "execution_count": 81
        }
      ]
    },
    {
      "cell_type": "markdown",
      "source": [
        "# CIFAR 100"
      ],
      "metadata": {
        "id": "G0oQvjH_xswa"
      }
    },
    {
      "cell_type": "markdown",
      "source": [
        "### Import Results"
      ],
      "metadata": {
        "id": "q6pfNiiV2Uq7"
      }
    },
    {
      "cell_type": "markdown",
      "source": [
        "Import File with results if you already have them"
      ],
      "metadata": {
        "id": "05vL5xRj2vZk"
      }
    },
    {
      "cell_type": "code",
      "source": [
        "# Specify the file path where the PKL file is located\n",
        "file_path = 'cifar_100.pkl'  # Replace with the path to your PKL file\n",
        "\n",
        "# Open the file in binary read mode\n",
        "with open(file_path, 'rb') as file:\n",
        "    cifar_100 = pickle.load(file)\n",
        "\n",
        "# Now, loaded_dict contains the dictionary loaded from the PKL file\n",
        "print(cifar_100)"
      ],
      "metadata": {
        "colab": {
          "base_uri": "https://localhost:8080/"
        },
        "id": "4D3Naa8k2U1h",
        "outputId": "360c2254-1770-4062-8bf4-adc5522e2542"
      },
      "execution_count": 82,
      "outputs": [
        {
          "output_type": "stream",
          "name": "stdout",
          "text": [
            "{('CIFAR100', 'cifar100_vgg16_bn', 1): {'unlearn_model_forget_dataloader': 0.0, 'model_forget_dataloader': 1.0, 'unlearn_model_retain_dataloader': 0.010101010101010102, 'model_retain_dataloader': 0.9995353535353535, 'unlearn_model_testloader': 0.01, 'model_testloader': 0.7401, 'unlearn_model_time': 118.30202317237854}, ('CIFAR100', 'cifar100_vgg19_bn', 1): {'unlearn_model_forget_dataloader': 0.0, 'model_forget_dataloader': 1.0, 'unlearn_model_retain_dataloader': 0.010101010101010102, 'model_retain_dataloader': 0.9994545454545455, 'unlearn_model_testloader': 0.01, 'model_testloader': 0.7386, 'unlearn_model_time': 146.33853697776794}, ('CIFAR100', 'cifar100_resnet44', 1): {'unlearn_model_forget_dataloader': 0.0, 'model_forget_dataloader': 1.0, 'unlearn_model_retain_dataloader': 0.4854141414141414, 'model_retain_dataloader': 0.9968282828282828, 'unlearn_model_testloader': 0.4458, 'model_testloader': 0.7164, 'unlearn_model_time': 151.8172435760498}, ('CIFAR100', 'cifar100_resnet56', 1): {'unlearn_model_forget_dataloader': 0.0, 'model_forget_dataloader': 1.0, 'unlearn_model_retain_dataloader': 0.4345050505050505, 'model_retain_dataloader': 0.999030303030303, 'unlearn_model_testloader': 0.3981, 'model_testloader': 0.7264, 'unlearn_model_time': 191.9475450515747}, ('CIFAR100', 'cifar100_vgg16_bn', 2): {'unlearn_model_forget_dataloader': 0.0, 'model_forget_dataloader': 1.0, 'unlearn_model_retain_dataloader': 0.01020408163265306, 'model_retain_dataloader': 0.9995306122448979, 'unlearn_model_testloader': 0.01, 'model_testloader': 0.7401, 'unlearn_model_time': 124.04978609085083}, ('CIFAR100', 'cifar100_vgg19_bn', 2): {'unlearn_model_forget_dataloader': 0.0, 'model_forget_dataloader': 1.0, 'unlearn_model_retain_dataloader': 0.01020408163265306, 'model_retain_dataloader': 0.9994489795918368, 'unlearn_model_testloader': 0.01, 'model_testloader': 0.7386, 'unlearn_model_time': 152.84981107711792}, ('CIFAR100', 'cifar100_resnet44', 2): {'unlearn_model_forget_dataloader': 0.0, 'model_forget_dataloader': 0.995, 'unlearn_model_retain_dataloader': 0.35085714285714287, 'model_retain_dataloader': 0.9968979591836735, 'unlearn_model_testloader': 0.325, 'model_testloader': 0.7164, 'unlearn_model_time': 155.3572075366974}, ('CIFAR100', 'cifar100_resnet56', 2): {'unlearn_model_forget_dataloader': 0.0, 'model_forget_dataloader': 0.999, 'unlearn_model_retain_dataloader': 0.3190816326530612, 'model_retain_dataloader': 0.9990408163265306, 'unlearn_model_testloader': 0.2992, 'model_testloader': 0.7264, 'unlearn_model_time': 197.0452001094818}}\n"
          ]
        }
      ]
    },
    {
      "cell_type": "markdown",
      "source": [
        "This is the code to run the different models on CIFAR 100.\n"
      ],
      "metadata": {
        "id": "biXxsZkT0PGu"
      }
    },
    {
      "cell_type": "code",
      "source": [
        "## CIFAR100\n",
        "\n",
        "models = {\"CIFAR100\": ['cifar100_vgg16_bn','cifar100_vgg19_bn', 'cifar100_resnet44','cifar100_resnet56']}\n",
        "classes = [[1],[1,2]]\n",
        "cifar_100 = {}\n",
        "for data,model in models.items():\n",
        "  for i in model:\n",
        "    for j in classes:\n",
        "      cifar_100[data,i,len(j)] = comparison.metrics(data,i,j)\n",
        "cifar_100"
      ],
      "metadata": {
        "id": "aLb-yxol0LQ5"
      },
      "execution_count": null,
      "outputs": []
    },
    {
      "cell_type": "markdown",
      "source": [
        "### Export Results"
      ],
      "metadata": {
        "id": "x4ET2-ew2ldj"
      }
    },
    {
      "cell_type": "code",
      "source": [
        "# Specify the file path\n",
        "file_path = 'cifar_100.pkl'\n",
        "\n",
        "# Open the file in binary write mode\n",
        "with open(file_path, 'wb') as file:\n",
        "    pickle.dump(cifar_100, file)\n",
        "\n",
        "print(\"Dictionary saved to\", file_path)"
      ],
      "metadata": {
        "id": "yHDZwTRu2nbt"
      },
      "execution_count": null,
      "outputs": []
    },
    {
      "cell_type": "markdown",
      "source": [
        "### Show Results"
      ],
      "metadata": {
        "id": "FK-IvU3c2oSO"
      }
    },
    {
      "cell_type": "code",
      "source": [
        "# Create a MultiIndex for rows and columns\n",
        "rows = pd.MultiIndex.from_tuples([('cifar100_vgg16_bn', '1'), ('cifar100_vgg16_bn', '2'), ('cifar100_vgg19_bn', '1'), ('cifar100_vgg19_bn', '2'),\n",
        "                                  ('cifar100_resnet44', '1'), ('cifar100_resnet44', '2'), ('cifar100_resnet56', '1'), ('cifar100_resnet56', '2')], names=['Model', 'Labels'])\n",
        "columns = pd.MultiIndex.from_tuples([('Forget', 'Unlearned'),('Forget', 'Original'), ('Retain', 'Unlearned'),('Retain', 'Original'),('Test', 'Unlearned'),('Test', 'Original')], names=['Dataset', 'Model'])\n",
        "\n",
        "data = np.empty((8, 6))\n",
        "for j,z in enumerate(cifar_100.values()):\n",
        "  for i,v in enumerate(list(z.values())[0:6]):\n",
        "    data[j,i] = v\n",
        "# Create the DataFrame\n",
        "df = pd.DataFrame(data, index=rows, columns=columns)\n",
        "\n",
        "\n",
        "# Function to center-align text\n",
        "def center_align(val):\n",
        "    return 'text-align: center'\n",
        "def format_index(label):\n",
        "    return f'[{label}]'\n",
        "\n",
        "# Apply styling to format and center-align the MultiIndex labels\n",
        "styled_df = df.rename_axis(index=format_index).style.set_table_styles(\n",
        "    [{'selector': 'th', 'props': [('text-align', 'center')]}], axis=0)\n",
        "# Display the styled DataFrame\n",
        "\n",
        "\n",
        "styled_df\n"
      ],
      "metadata": {
        "colab": {
          "base_uri": "https://localhost:8080/",
          "height": 362
        },
        "id": "oCZjm1momvu6",
        "outputId": "2750e11d-b65d-4a0e-cee7-a5049a5c8bb8"
      },
      "execution_count": 83,
      "outputs": [
        {
          "output_type": "execute_result",
          "data": {
            "text/plain": [
              "<pandas.io.formats.style.Styler at 0x78641924e6b0>"
            ],
            "text/html": [
              "<style type=\"text/css\">\n",
              "#T_d2f0b th {\n",
              "  text-align: center;\n",
              "}\n",
              "</style>\n",
              "<table id=\"T_d2f0b\" class=\"dataframe\">\n",
              "  <thead>\n",
              "    <tr>\n",
              "      <th class=\"blank\" >&nbsp;</th>\n",
              "      <th class=\"index_name level0\" >Dataset</th>\n",
              "      <th id=\"T_d2f0b_level0_col0\" class=\"col_heading level0 col0\" colspan=\"2\">Forget</th>\n",
              "      <th id=\"T_d2f0b_level0_col2\" class=\"col_heading level0 col2\" colspan=\"2\">Retain</th>\n",
              "      <th id=\"T_d2f0b_level0_col4\" class=\"col_heading level0 col4\" colspan=\"2\">Test</th>\n",
              "    </tr>\n",
              "    <tr>\n",
              "      <th class=\"blank\" >&nbsp;</th>\n",
              "      <th class=\"index_name level1\" >Model</th>\n",
              "      <th id=\"T_d2f0b_level1_col0\" class=\"col_heading level1 col0\" >Unlearned</th>\n",
              "      <th id=\"T_d2f0b_level1_col1\" class=\"col_heading level1 col1\" >Original</th>\n",
              "      <th id=\"T_d2f0b_level1_col2\" class=\"col_heading level1 col2\" >Unlearned</th>\n",
              "      <th id=\"T_d2f0b_level1_col3\" class=\"col_heading level1 col3\" >Original</th>\n",
              "      <th id=\"T_d2f0b_level1_col4\" class=\"col_heading level1 col4\" >Unlearned</th>\n",
              "      <th id=\"T_d2f0b_level1_col5\" class=\"col_heading level1 col5\" >Original</th>\n",
              "    </tr>\n",
              "    <tr>\n",
              "      <th class=\"index_name level0\" >[Model]</th>\n",
              "      <th class=\"index_name level1\" >[Labels]</th>\n",
              "      <th class=\"blank col0\" >&nbsp;</th>\n",
              "      <th class=\"blank col1\" >&nbsp;</th>\n",
              "      <th class=\"blank col2\" >&nbsp;</th>\n",
              "      <th class=\"blank col3\" >&nbsp;</th>\n",
              "      <th class=\"blank col4\" >&nbsp;</th>\n",
              "      <th class=\"blank col5\" >&nbsp;</th>\n",
              "    </tr>\n",
              "  </thead>\n",
              "  <tbody>\n",
              "    <tr>\n",
              "      <th id=\"T_d2f0b_level0_row0\" class=\"row_heading level0 row0\" rowspan=\"2\">cifar100_vgg16_bn</th>\n",
              "      <th id=\"T_d2f0b_level1_row0\" class=\"row_heading level1 row0\" >1</th>\n",
              "      <td id=\"T_d2f0b_row0_col0\" class=\"data row0 col0\" >0.000000</td>\n",
              "      <td id=\"T_d2f0b_row0_col1\" class=\"data row0 col1\" >1.000000</td>\n",
              "      <td id=\"T_d2f0b_row0_col2\" class=\"data row0 col2\" >0.010101</td>\n",
              "      <td id=\"T_d2f0b_row0_col3\" class=\"data row0 col3\" >0.999535</td>\n",
              "      <td id=\"T_d2f0b_row0_col4\" class=\"data row0 col4\" >0.010000</td>\n",
              "      <td id=\"T_d2f0b_row0_col5\" class=\"data row0 col5\" >0.740100</td>\n",
              "    </tr>\n",
              "    <tr>\n",
              "      <th id=\"T_d2f0b_level1_row1\" class=\"row_heading level1 row1\" >2</th>\n",
              "      <td id=\"T_d2f0b_row1_col0\" class=\"data row1 col0\" >0.000000</td>\n",
              "      <td id=\"T_d2f0b_row1_col1\" class=\"data row1 col1\" >1.000000</td>\n",
              "      <td id=\"T_d2f0b_row1_col2\" class=\"data row1 col2\" >0.010101</td>\n",
              "      <td id=\"T_d2f0b_row1_col3\" class=\"data row1 col3\" >0.999455</td>\n",
              "      <td id=\"T_d2f0b_row1_col4\" class=\"data row1 col4\" >0.010000</td>\n",
              "      <td id=\"T_d2f0b_row1_col5\" class=\"data row1 col5\" >0.738600</td>\n",
              "    </tr>\n",
              "    <tr>\n",
              "      <th id=\"T_d2f0b_level0_row2\" class=\"row_heading level0 row2\" rowspan=\"2\">cifar100_vgg19_bn</th>\n",
              "      <th id=\"T_d2f0b_level1_row2\" class=\"row_heading level1 row2\" >1</th>\n",
              "      <td id=\"T_d2f0b_row2_col0\" class=\"data row2 col0\" >0.000000</td>\n",
              "      <td id=\"T_d2f0b_row2_col1\" class=\"data row2 col1\" >1.000000</td>\n",
              "      <td id=\"T_d2f0b_row2_col2\" class=\"data row2 col2\" >0.485414</td>\n",
              "      <td id=\"T_d2f0b_row2_col3\" class=\"data row2 col3\" >0.996828</td>\n",
              "      <td id=\"T_d2f0b_row2_col4\" class=\"data row2 col4\" >0.445800</td>\n",
              "      <td id=\"T_d2f0b_row2_col5\" class=\"data row2 col5\" >0.716400</td>\n",
              "    </tr>\n",
              "    <tr>\n",
              "      <th id=\"T_d2f0b_level1_row3\" class=\"row_heading level1 row3\" >2</th>\n",
              "      <td id=\"T_d2f0b_row3_col0\" class=\"data row3 col0\" >0.000000</td>\n",
              "      <td id=\"T_d2f0b_row3_col1\" class=\"data row3 col1\" >1.000000</td>\n",
              "      <td id=\"T_d2f0b_row3_col2\" class=\"data row3 col2\" >0.434505</td>\n",
              "      <td id=\"T_d2f0b_row3_col3\" class=\"data row3 col3\" >0.999030</td>\n",
              "      <td id=\"T_d2f0b_row3_col4\" class=\"data row3 col4\" >0.398100</td>\n",
              "      <td id=\"T_d2f0b_row3_col5\" class=\"data row3 col5\" >0.726400</td>\n",
              "    </tr>\n",
              "    <tr>\n",
              "      <th id=\"T_d2f0b_level0_row4\" class=\"row_heading level0 row4\" rowspan=\"2\">cifar100_resnet44</th>\n",
              "      <th id=\"T_d2f0b_level1_row4\" class=\"row_heading level1 row4\" >1</th>\n",
              "      <td id=\"T_d2f0b_row4_col0\" class=\"data row4 col0\" >0.000000</td>\n",
              "      <td id=\"T_d2f0b_row4_col1\" class=\"data row4 col1\" >1.000000</td>\n",
              "      <td id=\"T_d2f0b_row4_col2\" class=\"data row4 col2\" >0.010204</td>\n",
              "      <td id=\"T_d2f0b_row4_col3\" class=\"data row4 col3\" >0.999531</td>\n",
              "      <td id=\"T_d2f0b_row4_col4\" class=\"data row4 col4\" >0.010000</td>\n",
              "      <td id=\"T_d2f0b_row4_col5\" class=\"data row4 col5\" >0.740100</td>\n",
              "    </tr>\n",
              "    <tr>\n",
              "      <th id=\"T_d2f0b_level1_row5\" class=\"row_heading level1 row5\" >2</th>\n",
              "      <td id=\"T_d2f0b_row5_col0\" class=\"data row5 col0\" >0.000000</td>\n",
              "      <td id=\"T_d2f0b_row5_col1\" class=\"data row5 col1\" >1.000000</td>\n",
              "      <td id=\"T_d2f0b_row5_col2\" class=\"data row5 col2\" >0.010204</td>\n",
              "      <td id=\"T_d2f0b_row5_col3\" class=\"data row5 col3\" >0.999449</td>\n",
              "      <td id=\"T_d2f0b_row5_col4\" class=\"data row5 col4\" >0.010000</td>\n",
              "      <td id=\"T_d2f0b_row5_col5\" class=\"data row5 col5\" >0.738600</td>\n",
              "    </tr>\n",
              "    <tr>\n",
              "      <th id=\"T_d2f0b_level0_row6\" class=\"row_heading level0 row6\" rowspan=\"2\">cifar100_resnet56</th>\n",
              "      <th id=\"T_d2f0b_level1_row6\" class=\"row_heading level1 row6\" >1</th>\n",
              "      <td id=\"T_d2f0b_row6_col0\" class=\"data row6 col0\" >0.000000</td>\n",
              "      <td id=\"T_d2f0b_row6_col1\" class=\"data row6 col1\" >0.995000</td>\n",
              "      <td id=\"T_d2f0b_row6_col2\" class=\"data row6 col2\" >0.350857</td>\n",
              "      <td id=\"T_d2f0b_row6_col3\" class=\"data row6 col3\" >0.996898</td>\n",
              "      <td id=\"T_d2f0b_row6_col4\" class=\"data row6 col4\" >0.325000</td>\n",
              "      <td id=\"T_d2f0b_row6_col5\" class=\"data row6 col5\" >0.716400</td>\n",
              "    </tr>\n",
              "    <tr>\n",
              "      <th id=\"T_d2f0b_level1_row7\" class=\"row_heading level1 row7\" >2</th>\n",
              "      <td id=\"T_d2f0b_row7_col0\" class=\"data row7 col0\" >0.000000</td>\n",
              "      <td id=\"T_d2f0b_row7_col1\" class=\"data row7 col1\" >0.999000</td>\n",
              "      <td id=\"T_d2f0b_row7_col2\" class=\"data row7 col2\" >0.319082</td>\n",
              "      <td id=\"T_d2f0b_row7_col3\" class=\"data row7 col3\" >0.999041</td>\n",
              "      <td id=\"T_d2f0b_row7_col4\" class=\"data row7 col4\" >0.299200</td>\n",
              "      <td id=\"T_d2f0b_row7_col5\" class=\"data row7 col5\" >0.726400</td>\n",
              "    </tr>\n",
              "  </tbody>\n",
              "</table>\n"
            ]
          },
          "metadata": {},
          "execution_count": 83
        }
      ]
    }
  ]
}